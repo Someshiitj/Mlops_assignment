{
  "cells": [
    {
      "cell_type": "markdown",
      "metadata": {
        "id": "LlIGlcIiywyq"
      },
      "source": [
        "## MLOps Assignment 1"
      ]
    },
    {
      "cell_type": "markdown",
      "metadata": {
        "id": "i3GplYoCqa89"
      },
      "source": [
        "Q1. Print multiplication table from 1 to 10"
      ]
    },
    {
      "cell_type": "code",
      "execution_count": null,
      "metadata": {
        "colab": {
          "base_uri": "https://localhost:8080/"
        },
        "id": "Vfm5RBY0qbIs",
        "outputId": "5045824d-dcf0-4d28-dd48-d9ab5a22ab57"
      },
      "outputs": [
        {
          "name": "stdout",
          "output_type": "stream",
          "text": [
            "Table of 1:\n",
            "\n",
            "1 x 1 = 1\n",
            "\n",
            "1 x 2 = 2\n",
            "\n",
            "1 x 3 = 3\n",
            "\n",
            "1 x 4 = 4\n",
            "\n",
            "1 x 5 = 5\n",
            "\n",
            "1 x 6 = 6\n",
            "\n",
            "1 x 7 = 7\n",
            "\n",
            "1 x 8 = 8\n",
            "\n",
            "1 x 9 = 9\n",
            "\n",
            "1 x 10 = 10\n",
            "\n",
            "Table of 2:\n",
            "\n",
            "2 x 1 = 2\n",
            "\n",
            "2 x 2 = 4\n",
            "\n",
            "2 x 3 = 6\n",
            "\n",
            "2 x 4 = 8\n",
            "\n",
            "2 x 5 = 10\n",
            "\n",
            "2 x 6 = 12\n",
            "\n",
            "2 x 7 = 14\n",
            "\n",
            "2 x 8 = 16\n",
            "\n",
            "2 x 9 = 18\n",
            "\n",
            "2 x 10 = 20\n",
            "\n",
            "Table of 3:\n",
            "\n",
            "3 x 1 = 3\n",
            "\n",
            "3 x 2 = 6\n",
            "\n",
            "3 x 3 = 9\n",
            "\n",
            "3 x 4 = 12\n",
            "\n",
            "3 x 5 = 15\n",
            "\n",
            "3 x 6 = 18\n",
            "\n",
            "3 x 7 = 21\n",
            "\n",
            "3 x 8 = 24\n",
            "\n",
            "3 x 9 = 27\n",
            "\n",
            "3 x 10 = 30\n",
            "\n",
            "Table of 4:\n",
            "\n",
            "4 x 1 = 4\n",
            "\n",
            "4 x 2 = 8\n",
            "\n",
            "4 x 3 = 12\n",
            "\n",
            "4 x 4 = 16\n",
            "\n",
            "4 x 5 = 20\n",
            "\n",
            "4 x 6 = 24\n",
            "\n",
            "4 x 7 = 28\n",
            "\n",
            "4 x 8 = 32\n",
            "\n",
            "4 x 9 = 36\n",
            "\n",
            "4 x 10 = 40\n",
            "\n",
            "Table of 5:\n",
            "\n",
            "5 x 1 = 5\n",
            "\n",
            "5 x 2 = 10\n",
            "\n",
            "5 x 3 = 15\n",
            "\n",
            "5 x 4 = 20\n",
            "\n",
            "5 x 5 = 25\n",
            "\n",
            "5 x 6 = 30\n",
            "\n",
            "5 x 7 = 35\n",
            "\n",
            "5 x 8 = 40\n",
            "\n",
            "5 x 9 = 45\n",
            "\n",
            "5 x 10 = 50\n",
            "\n",
            "Table of 6:\n",
            "\n",
            "6 x 1 = 6\n",
            "\n",
            "6 x 2 = 12\n",
            "\n",
            "6 x 3 = 18\n",
            "\n",
            "6 x 4 = 24\n",
            "\n",
            "6 x 5 = 30\n",
            "\n",
            "6 x 6 = 36\n",
            "\n",
            "6 x 7 = 42\n",
            "\n",
            "6 x 8 = 48\n",
            "\n",
            "6 x 9 = 54\n",
            "\n",
            "6 x 10 = 60\n",
            "\n",
            "Table of 7:\n",
            "\n",
            "7 x 1 = 7\n",
            "\n",
            "7 x 2 = 14\n",
            "\n",
            "7 x 3 = 21\n",
            "\n",
            "7 x 4 = 28\n",
            "\n",
            "7 x 5 = 35\n",
            "\n",
            "7 x 6 = 42\n",
            "\n",
            "7 x 7 = 49\n",
            "\n",
            "7 x 8 = 56\n",
            "\n",
            "7 x 9 = 63\n",
            "\n",
            "7 x 10 = 70\n",
            "\n",
            "Table of 8:\n",
            "\n",
            "8 x 1 = 8\n",
            "\n",
            "8 x 2 = 16\n",
            "\n",
            "8 x 3 = 24\n",
            "\n",
            "8 x 4 = 32\n",
            "\n",
            "8 x 5 = 40\n",
            "\n",
            "8 x 6 = 48\n",
            "\n",
            "8 x 7 = 56\n",
            "\n",
            "8 x 8 = 64\n",
            "\n",
            "8 x 9 = 72\n",
            "\n",
            "8 x 10 = 80\n",
            "\n",
            "Table of 9:\n",
            "\n",
            "9 x 1 = 9\n",
            "\n",
            "9 x 2 = 18\n",
            "\n",
            "9 x 3 = 27\n",
            "\n",
            "9 x 4 = 36\n",
            "\n",
            "9 x 5 = 45\n",
            "\n",
            "9 x 6 = 54\n",
            "\n",
            "9 x 7 = 63\n",
            "\n",
            "9 x 8 = 72\n",
            "\n",
            "9 x 9 = 81\n",
            "\n",
            "9 x 10 = 90\n",
            "\n",
            "Table of 10:\n",
            "\n",
            "10 x 1 = 10\n",
            "\n",
            "10 x 2 = 20\n",
            "\n",
            "10 x 3 = 30\n",
            "\n",
            "10 x 4 = 40\n",
            "\n",
            "10 x 5 = 50\n",
            "\n",
            "10 x 6 = 60\n",
            "\n",
            "10 x 7 = 70\n",
            "\n",
            "10 x 8 = 80\n",
            "\n",
            "10 x 9 = 90\n",
            "\n",
            "10 x 10 = 100\n",
            "\n"
          ]
        }
      ],
      "source": [
        "#write here and run the cell\n",
        "for i in range(10):\n",
        "  print(f\"Table of {i+1}:\\n\")\n",
        "  for j in range(10):\n",
        "    print(f\"{i+1} x {j+1} = {(i+1)*(j+1)}\\n\")\n",
        "\n",
        "\n"
      ]
    },
    {
      "cell_type": "markdown",
      "metadata": {
        "id": "kCxjfhGtiMFb"
      },
      "source": [
        "Q2. Given two lists, l1 and l2, write a program to create a third list l3 by picking an odd-index element from the list l1 and even index elements from the list l2."
      ]
    },
    {
      "cell_type": "code",
      "execution_count": null,
      "metadata": {
        "colab": {
          "base_uri": "https://localhost:8080/"
        },
        "id": "r1lkQPN8iNSc",
        "outputId": "ea93fd0a-24c4-4667-d550-d72fc90dbb2d"
      },
      "outputs": [
        {
          "name": "stdout",
          "output_type": "stream",
          "text": [
            "[11, 2, 13, 4, 15, 6, 17, 8, 19, 10]\n"
          ]
        }
      ],
      "source": [
        "#write here and run the cell\n",
        "l1 = [1,2,3,4,5,6,7,8,9,10]\n",
        "l2 = [11,12,13,14,15,16,17,18,19,20]\n",
        "\n",
        "n1 = len(l1)\n",
        "n2 = len(l2)\n",
        "\n",
        "i = 0\n",
        "\n",
        "l3 = []\n",
        "\n",
        "while (i!=n1 and i!=n2):\n",
        "  if(i%2==0):\n",
        "    l3.append(l2[i])\n",
        "  else:\n",
        "    l3.append(l1[i])\n",
        "\n",
        "  i = i + 1\n",
        "\n",
        "print(l3)\n",
        "\n"
      ]
    },
    {
      "cell_type": "markdown",
      "metadata": {
        "id": "GBb0FgtIq4YA"
      },
      "source": [
        "Q3. Print a this pattern(*)\n",
        "\n",
        "    * * * * * * * *\n",
        "      * * * * * * *\n",
        "        * * * * * *\n",
        "          * * * * *\n",
        "            * * * *\n",
        "              * * *\n",
        "                * *\n",
        "                  *"
      ]
    },
    {
      "cell_type": "code",
      "execution_count": null,
      "metadata": {
        "colab": {
          "base_uri": "https://localhost:8080/"
        },
        "id": "rfbGzuA3rcGs",
        "outputId": "0ca9817e-f235-4215-c849-e0fa4b490388"
      },
      "outputs": [
        {
          "name": "stdout",
          "output_type": "stream",
          "text": [
            "* * * * * * * * \n",
            "  * * * * * * * \n",
            "    * * * * * * \n",
            "      * * * * * \n",
            "        * * * * \n",
            "          * * * \n",
            "            * * \n",
            "              * \n"
          ]
        }
      ],
      "source": [
        "#write here and run the cell\n",
        "for i in range(8):\n",
        "  for j in range (8):\n",
        "    if j >= i:\n",
        "      print(\"*\",end=\" \")\n",
        "    else:\n",
        "      print(\" \",end=\" \")\n",
        "  print()"
      ]
    },
    {
      "cell_type": "markdown",
      "metadata": {
        "id": "WIblh-z6s9me"
      },
      "source": [
        "Q4. Create a function named `exponent(base, exp)` that returns an integer representing the result of raising `base` to the power of `exp`.\n",
        "`exp` is >0.\n",
        "\n",
        "base = 5\n",
        "exponent = 4\n",
        "\n",
        "5 raises to the power of 4 is: 625\n",
        "i.e. (5 *5 * 5 *5 = 625)"
      ]
    },
    {
      "cell_type": "code",
      "execution_count": 3,
      "metadata": {
        "colab": {
          "base_uri": "https://localhost:8080/"
        },
        "id": "6-KKDQNWs8eQ",
        "outputId": "52dca8ca-6797-4dc1-bd2a-befaef869d0f"
      },
      "outputs": [
        {
          "name": "stdout",
          "output_type": "stream",
          "text": [
            "16\n"
          ]
        }
      ],
      "source": [
        "#write here and run the cell\n",
        "def exponent(base,exp)->int:\n",
        "  return base**exp\n",
        "\n",
        "print(exponent(2,4))"
      ]
    },
    {
      "cell_type": "markdown",
      "metadata": {
        "id": "_QUrD8h6t6PN"
      },
      "source": [
        "Q5. Create a file named test.txt and insert the following content into it.\n",
        "\n",
        "    line1\n",
        "    line2\n",
        "    line3\n",
        "    line4\n",
        "    line5\n",
        "    line6\n",
        "    line7\n",
        "\n",
        "Write a program which write all content of a given file (test.txt) into a new file by skipping line number 5 (line5)"
      ]
    },
    {
      "cell_type": "code",
      "execution_count": 4,
      "metadata": {
        "id": "I2KF1QHKrq-s"
      },
      "outputs": [],
      "source": [
        "#write here and run the cell\n",
        "f = open(\"test.txt\", \"w\")\n",
        "f.write(\"line1\\nline2\\nline3\\nline4\\nline5\\nline6\\nline7\")\n",
        "f.close()\n",
        "\n",
        "f = open(\"test.txt\", \"r\")\n",
        "\n",
        "new_f = open(\"new_file.txt\", \"w\")\n",
        "\n",
        "lines = f.readlines()\n",
        "\n",
        "for number in range(len(lines)):\n",
        "    if number == 1:\n",
        "        continue\n",
        "    else:\n",
        "        new_f.write(lines[number])\n",
        "\n",
        "new_f.close()"
      ]
    },
    {
      "cell_type": "markdown",
      "metadata": {
        "id": "6cdAt0ONvMVI"
      },
      "source": [
        "Q6. Write a program which receives three names from the user in a single input() function call.\n",
        "\n",
        "    Input: IIT JODHPUR RAJASTHAN\n",
        "\n",
        "    Output:\n",
        "    IIT\n",
        "    JODHPUR\n",
        "    RAJASTHAN"
      ]
    },
    {
      "cell_type": "code",
      "execution_count": 6,
      "metadata": {
        "colab": {
          "base_uri": "https://localhost:8080/"
        },
        "id": "Mo0wyeB6vJJm",
        "outputId": "459d0e09-9a9e-4e77-edb0-14b2db7a3ac1"
      },
      "outputs": [
        {
          "name": "stdout",
          "output_type": "stream",
          "text": [
            "Enter the three names:IIT JODHPUR RAJASTHAN\n",
            "name1 is:  IIT\n",
            "name2 is:  JODHPUR\n",
            "name3 is:  RAJASTHAN\n"
          ]
        }
      ],
      "source": [
        "#write here and run the cell\n",
        "name1, name2, name3 = input(\"Enter the three names:\").split()\n",
        "print(\"name1 is: \",name1)\n",
        "print(\"name2 is: \",name2)\n",
        "print(\"name3 is: \",name3)"
      ]
    },
    {
      "cell_type": "markdown",
      "metadata": {
        "id": "jwSKpPcYv_De"
      },
      "source": [
        "Q7. Write a program to define a function called show_employee() with the following requirements:\n",
        "\n",
        "*   It should take the employee's name and salary as input and display both.\n",
        "*   If the salary is not provided in the function call, assign a default value of 9000 to it.\n",
        "\n",
        "After passing:\n",
        "\n",
        "showEmployee(\"Bill Gates\", 12000)\n",
        "\n",
        "showEmployee(\"Elon Musk\")\n",
        "\n",
        "It should print:\n",
        "\n",
        "Name: Bill Gates salary: 12000\n",
        "\n",
        "Name: Elon Musk salary: 9000"
      ]
    },
    {
      "cell_type": "code",
      "execution_count": 7,
      "metadata": {
        "colab": {
          "base_uri": "https://localhost:8080/"
        },
        "id": "yyzhkF1Lv94j",
        "outputId": "56c926f0-934c-46e2-80ee-41dfac2d74ef"
      },
      "outputs": [
        {
          "name": "stdout",
          "output_type": "stream",
          "text": [
            "Name: Bill Gates Salary:12000\n",
            "Name: Elon Musk Salary:9000\n"
          ]
        }
      ],
      "source": [
        "#write here and run the cell\n",
        "def showEmployee(name,salary=9000):\n",
        "  print(f\"Name: {name} Salary:{salary}\")\n",
        "\n",
        "showEmployee(\"Bill Gates\", 12000)\n",
        "\n",
        "showEmployee(\"Elon Musk\")\n"
      ]
    },
    {
      "cell_type": "markdown",
      "metadata": {
        "id": "BAtCQH3pxXWV"
      },
      "source": [
        "Q8. Write a program to identify words that contain both letters and digits from a given input string.\n",
        "\n",
        "    Given str1 = \"Harry25 is Gryffindor Wizard50 and cursed\"\n",
        "\n",
        "    Output:\n",
        "    Harry25\n",
        "    Wizard50"
      ]
    },
    {
      "cell_type": "code",
      "execution_count": 14,
      "metadata": {
        "colab": {
          "base_uri": "https://localhost:8080/"
        },
        "id": "bqbyxYdqvJHY",
        "outputId": "475e198a-f439-4fd4-be78-5c851c4071fe"
      },
      "outputs": [
        {
          "name": "stdout",
          "output_type": "stream",
          "text": [
            "Harry25\n",
            "Wizard50\n"
          ]
        }
      ],
      "source": [
        "#write here and run the cell\n",
        "def identify(input):\n",
        "  input1 = input.split(\" \")\n",
        "  output = []\n",
        "\n",
        "  for word in input1:\n",
        "    letterFlag = False\n",
        "    digitFlag = False\n",
        "    for character in word:\n",
        "      if((character >='a' and character<='z') or (character >='A' and character<='B')):\n",
        "        letterFlag = True\n",
        "\n",
        "      if((character >='0' and character<='9')):\n",
        "        digitFlag = True\n",
        "    if(letterFlag and digitFlag):\n",
        "      output.append(word)\n",
        "\n",
        "  return output\n",
        "\n",
        "output = identify(\"Harry25 is Gryffindor Wizard50 and cursed\")\n",
        "\n",
        "for word in output:\n",
        "  print(word)\n",
        "\n",
        "\n",
        "\n"
      ]
    },
    {
      "cell_type": "markdown",
      "metadata": {
        "id": "Ev6TIw7oyGzJ"
      },
      "source": [
        "Q9. Write a program to substitute each special character in the given string with the symbol #.\n",
        "\n",
        "    Given: str1 = '/*Modi is @Politician & Melony!!'\n",
        "\n",
        "    Output: ##Modi is #Politician # Melony##"
      ]
    },
    {
      "cell_type": "code",
      "execution_count": 16,
      "metadata": {
        "colab": {
          "base_uri": "https://localhost:8080/"
        },
        "id": "Hbg92hJtvJE7",
        "outputId": "56b9d7f6-f9cc-49ae-f3e1-3148ef736e4f"
      },
      "outputs": [
        {
          "name": "stdout",
          "output_type": "stream",
          "text": [
            "##Modi is #Politician # Melony##\n"
          ]
        }
      ],
      "source": [
        "#write here and run the cell\n",
        "def substitute(input):\n",
        "  input1 = input.split(\" \")\n",
        "  output = []\n",
        "\n",
        "  for word in input1:\n",
        "    newWord = \"\"\n",
        "    for c in word:\n",
        "      if((c>='a' and c<='z' or c>='A'and c<='Z' or c>='0'and c<='9' )):\n",
        "        newWord = newWord + c\n",
        "      else:\n",
        "        newWord = newWord + '#'\n",
        "    output.append(newWord)\n",
        "\n",
        "\n",
        "  output = ' '.join(output)\n",
        "  print(output)\n",
        "substitute(\"/*Modi is @Politician & Melony!!\")\n"
      ]
    },
    {
      "cell_type": "markdown",
      "metadata": {
        "id": "L9zg8k_XyoMz"
      },
      "source": [
        "Q10. Construct a Python set that displays elements from both lists as pairs.\n",
        "\n",
        "    Given:\n",
        "\n",
        "    first_list = [2, 3, 4, 5, 6, 7, 8]\n",
        "    second_list = [4, 9, 16, 25, 36, 49, 64]\n",
        "    Output: Result is  {(6, 36), (8, 64), (4, 16), (5, 25), (3, 9), (7, 49), (2, 4)}"
      ]
    },
    {
      "cell_type": "code",
      "execution_count": 21,
      "metadata": {
        "colab": {
          "base_uri": "https://localhost:8080/"
        },
        "id": "aSBw6V0OvJCS",
        "outputId": "f7c65c53-558e-4034-bd7f-866ca53a15fb"
      },
      "outputs": [
        {
          "name": "stdout",
          "output_type": "stream",
          "text": [
            "Result is {(7, 49), (2, 4), (4, 16), (8, 64), (6, 36), (3, 9), (5, 25)} \n"
          ]
        }
      ],
      "source": [
        "#write here and run the cell\n",
        "def pairs(l1,l2):\n",
        "  output = []\n",
        "  for i in range(len(l1)):\n",
        "    output.append((l1[i],l2[i]))\n",
        "\n",
        "  output = set(output)\n",
        "\n",
        "  print(f\"Result is {output} \")\n",
        "\n",
        "first_list = [2, 3, 4, 5, 6, 7, 8]\n",
        "second_list = [4, 9, 16, 25, 36, 49, 64]\n",
        "\n",
        "pairs(first_list,second_list)"
      ]
    },
    {
      "cell_type": "markdown",
      "metadata": {
        "id": "JHa0SMOozZo9"
      },
      "source": [
        "Q11. Define two set A and B consisting of 5 elements. Now print the element after performing\n",
        "\n",
        "\n",
        "      1.   A-B\n",
        "      2.   B-A\n",
        "      3.   A∩B\n",
        "      4.   A∪B\n",
        "\n",
        "\n"
      ]
    },
    {
      "cell_type": "code",
      "execution_count": 23,
      "metadata": {
        "colab": {
          "base_uri": "https://localhost:8080/"
        },
        "id": "r9vL1bpHzZGg",
        "outputId": "bf546532-c846-4ccd-c8c4-147139db5098"
      },
      "outputs": [
        {
          "name": "stdout",
          "output_type": "stream",
          "text": [
            "A-B is {1, 3, 5, 7, 9}\n",
            "B-A is {16, 18, 12, 14}\n",
            "A∩B is {2, 4, 6, 8, 10}\n",
            "A∪B is {1, 2, 3, 4, 5, 6, 7, 8, 9, 10, 12, 14, 16, 18}\n"
          ]
        }
      ],
      "source": [
        "#write here and run the cell\n",
        "setA = {1,2,3,4,5,6,7,8,9,10}\n",
        "setB = {2,4,6,8,10,12,14,16,18}\n",
        "\n",
        "print(f\"A-B is {setA.difference(setB)}\")\n",
        "print(f\"B-A is {setB.difference(setA)}\")\n",
        "print(f\"A∩B is {setA.intersection(setB)}\")\n",
        "print(f\"A∪B is {setA.union(setB)}\")\n"
      ]
    },
    {
      "cell_type": "markdown",
      "metadata": {
        "id": "UFjTtL_i00dz"
      },
      "source": [
        "## Object Oriented Programming Exercise 1:\n",
        "\n",
        "[Classes and Objects in Python](https://pynative.com/python-classes-and-objects/)\n",
        "\n",
        "[Instance variables in Python](https://pynative.com/python-instance-variables/)"
      ]
    },
    {
      "cell_type": "markdown",
      "metadata": {
        "id": "-PQELvq41z5B"
      },
      "source": [
        "Q12. Create a Vehicle class with max_speed and mileage instance attributes."
      ]
    },
    {
      "cell_type": "code",
      "execution_count": 26,
      "metadata": {
        "colab": {
          "base_uri": "https://localhost:8080/"
        },
        "id": "Wa16l5-C0z3Z",
        "outputId": "f82861a6-f055-4a4e-b26b-9673362bdd79"
      },
      "outputs": [
        {
          "name": "stdout",
          "output_type": "stream",
          "text": [
            "Vehicle: 100 50\n"
          ]
        }
      ],
      "source": [
        "#write here and run the cell\n",
        "class Vehicle:\n",
        "\n",
        "  def __init__(self,max_speed,mileage):\n",
        "    self.max_speed = max_speed\n",
        "    self.mileage = mileage\n",
        "\n",
        "  def show(self):\n",
        "    print(\"Vehicle:\",self.max_speed,self.mileage)\n",
        "\n",
        "v1 = Vehicle(100,50)\n",
        "v1.show()\n"
      ]
    },
    {
      "cell_type": "markdown",
      "metadata": {
        "id": "-Japqg35177L"
      },
      "source": [
        "Q13. Create a child class Bus that will inherit all of the variables and methods of the Vehicle class.\n",
        "\n",
        "Create a Bus object that will inherit all of the variables and methods of the parent Vehicle class and display it."
      ]
    },
    {
      "cell_type": "code",
      "execution_count": 31,
      "metadata": {
        "colab": {
          "base_uri": "https://localhost:8080/"
        },
        "id": "nUvpX3qR2Upg",
        "outputId": "74f6a1d9-9706-4c2d-85a0-7c1de0f810dc"
      },
      "outputs": [
        {
          "name": "stdout",
          "output_type": "stream",
          "text": [
            "Vehicle: 50 25\n"
          ]
        }
      ],
      "source": [
        "#write here and run the cell\n",
        "class Bus(Vehicle):\n",
        "  def __init__(self,max_speed,mileage):\n",
        "    super().__init__(max_speed,mileage)\n",
        "\n",
        "b1 = Bus(50,25)\n",
        "b1.show()\n"
      ]
    },
    {
      "cell_type": "markdown",
      "metadata": {
        "id": "fPFfg2Hh2VBe"
      },
      "source": [
        "### Class Inheritance\n",
        "\n",
        "Q14. Create a Bus class that inherits from the Vehicle class. Give the capacity argument of Bus.seating_capacity() a default value of 50.\n",
        "\n",
        "Use the following code for your parent Vehicle class.\n",
        "\n",
        "    class Vehicle:\n",
        "      def __init__(self, name, max_speed, mileage):\n",
        "          self.name = name\n",
        "          self.max_speed = max_speed\n",
        "          self.mileage = mileage\n",
        "\n",
        "      def seating_capacity(self, capacity):\n",
        "          return f\"The seating capacity of a {self.name} is {capacity} passengers\"\n",
        "\n",
        "Expected Output:\n",
        "\n",
        "    The seating capacity of a bus is 50 passengers"
      ]
    },
    {
      "cell_type": "code",
      "execution_count": 44,
      "metadata": {
        "colab": {
          "base_uri": "https://localhost:8080/"
        },
        "id": "TKalMy1B2_Ix",
        "outputId": "ae56613c-461e-4d43-f8df-3c6060038161"
      },
      "outputs": [
        {
          "name": "stdout",
          "output_type": "stream",
          "text": [
            "The seating capacity of a Bus is 50 passengers\n"
          ]
        }
      ],
      "source": [
        "#write here and run the cell\n",
        "class Vehicle:\n",
        "  def __init__(self, name, max_speed, mileage):\n",
        "      self.name = name\n",
        "      self.max_speed = max_speed\n",
        "      self.mileage = mileage\n",
        "\n",
        "  def seating_capacity(self, capacity):\n",
        "      return f\"The seating capacity of a {self.name} is {capacity} passengers\"\n",
        "\n",
        "class Bus(Vehicle):\n",
        "  def __init__(self, name, max_speed, mileage):\n",
        "    super().__init__(name, max_speed, mileage)\n",
        "\n",
        "  def seating_capacity(self, capacity=50):\n",
        "    return super().seating_capacity(capacity)\n",
        "\n",
        "b1 = Bus(\"Bus\",100,90)\n",
        "print(b1.seating_capacity())\n"
      ]
    },
    {
      "cell_type": "markdown",
      "metadata": {
        "id": "kenJ766m2_jc"
      },
      "source": [
        "Q15. Create a Bus subclass that inherits from the Vehicle class. By default, the fare for any vehicle is calculated as the seating capacity multiplied by 100. For instances of the Bus class, an additional 10% maintenance fee should be applied to the total fare. Therefore, the final fare for a bus instance will be the sum of the total fare plus an additional 10% of that total fare.\n",
        "\n",
        "Note: The bus has a seating capacity of 50, so the final fare amount should be 5500. You need to override the fare() method from the Vehicle class in the Bus class.\n",
        "\n",
        "Use the provided code for the parent Vehicle class. You should access the parent class within a method of the child class.\n",
        "\n",
        "    class Vehicle:\n",
        "      def __init__(self, name, mileage, capacity):\n",
        "        self.name = name\n",
        "        self.mileage = mileage\n",
        "        self.capacity = capacity\n",
        "\n",
        "      def fare(self):\n",
        "        return self.capacity * 100\n",
        "\n",
        "    class Bus(Vehicle):\n",
        "        pass\n",
        "        School_bus = Bus(\"School Volvo\", 12, 50)\n",
        "        print(\"Total Bus fare is:\", School_bus.fare())\n",
        "\n",
        "    Expected Output:\n",
        "\n",
        "    Total Bus fare is: 5500.0"
      ]
    },
    {
      "cell_type": "code",
      "execution_count": 42,
      "metadata": {
        "colab": {
          "base_uri": "https://localhost:8080/"
        },
        "id": "jY3Z5SsY_iaQ",
        "outputId": "db3a6eb8-c516-4120-e79f-93900d95fa77"
      },
      "outputs": [
        {
          "name": "stdout",
          "output_type": "stream",
          "text": [
            "Total Bus fare is: 5500.0\n"
          ]
        }
      ],
      "source": [
        "#write here and run the cell\n",
        "class Vehicle:\n",
        "  def __init__(self, name, mileage, capacity):\n",
        "    self.name = name\n",
        "    self.mileage = mileage\n",
        "    self.capacity = capacity\n",
        "\n",
        "  def fare(self):\n",
        "    return self.capacity * 100\n",
        "\n",
        "class Bus(Vehicle):\n",
        "  def __init__(self, name, mileage, capacity):\n",
        "    super().__init__(name, mileage, capacity)\n",
        "\n",
        "  def fare(self):\n",
        "    return 1.1*(self.capacity * 100)\n",
        "\n",
        "School_bus = Bus(\"School Volvo\", 12, 50)\n",
        "print(\"Total Bus fare is:\", School_bus.fare())\n"
      ]
    },
    {
      "cell_type": "markdown",
      "metadata": {
        "id": "3wMvLEkk_nWE"
      },
      "source": [
        "### Python JSON Exercise\n",
        "Refer: [Python JSON tutorials](https://pynative.com/python/json/)"
      ]
    },
    {
      "cell_type": "markdown",
      "metadata": {
        "id": "zVIiuI0PAcuT"
      },
      "source": [
        "Q16. Convert the following dictionary into JSON format\n",
        "\n",
        "    data = {\"key1\" : \"value1\", \"key2\" : \"value2\"}\n",
        "    data = {\"key1\" : \"value1\", \"key2\" : \"value2\"}"
      ]
    },
    {
      "cell_type": "code",
      "execution_count": 48,
      "metadata": {
        "colab": {
          "base_uri": "https://localhost:8080/"
        },
        "id": "Z5M47OYS_mhA",
        "outputId": "f4e855fd-0212-4e6b-a9cb-3622d7f8f583"
      },
      "outputs": [
        {
          "name": "stdout",
          "output_type": "stream",
          "text": [
            "{\n",
            "  \"key1\": \"value1\",\n",
            "  \"key2\": \"value2\"\n",
            "}\n"
          ]
        }
      ],
      "source": [
        "#write here and run the cell\n",
        "import json\n",
        "\n",
        "data = {\"key1\" : \"value1\", \"key2\" : \"value2\"}\n",
        "\n",
        "json_data = json.dumps(data,indent = 2)\n",
        "\n",
        "print(json_data)\n"
      ]
    },
    {
      "cell_type": "markdown",
      "metadata": {
        "id": "8eE35QccA_X-"
      },
      "source": [
        "Q17. Sort JSON keys in and write them into a file\n",
        "\n",
        "    sampleJson = {\"id\" : 1, \"name\" : \"value2\", \"age\" : 29}\n",
        "\n",
        "    {\n",
        "          \"age\": 29,\n",
        "          \"id\": 1,\n",
        "          \"name\": \"value2\"\n",
        "    }"
      ]
    },
    {
      "cell_type": "code",
      "execution_count": 3,
      "metadata": {
        "id": "jLG5tk_X_j5O"
      },
      "outputs": [],
      "source": [
        "#write here and run the cell\n",
        "import json\n",
        "\n",
        "sampleJson = {\"id\" : 1, \"name\" : \"value2\", \"age\" : 29}\n",
        "\n",
        "sampleJson = json.dumps(sampleJson,sort_keys=True,indent=4)\n",
        "\n",
        "f = open('new_jfile.txt','w')\n",
        "f.write(sampleJson)\n",
        "\n",
        "f.close()\n"
      ]
    },
    {
      "cell_type": "code",
      "execution_count": null,
      "metadata": {},
      "outputs": [],
      "source": []
    }
  ],
  "metadata": {
    "colab": {
      "provenance": []
    },
    "kernelspec": {
      "display_name": "Python 3",
      "name": "python3"
    },
    "language_info": {
      "codemirror_mode": {
        "name": "ipython",
        "version": 3
      },
      "file_extension": ".py",
      "mimetype": "text/x-python",
      "name": "python",
      "nbconvert_exporter": "python",
      "pygments_lexer": "ipython3",
      "version": "3.12.4"
    }
  },
  "nbformat": 4,
  "nbformat_minor": 0
}
